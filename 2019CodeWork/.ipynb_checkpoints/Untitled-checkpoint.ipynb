{
 "cells": [
  {
   "cell_type": "code",
   "execution_count": 1,
   "metadata": {},
   "outputs": [
    {
     "name": "stdout",
     "output_type": "stream",
     "text": [
      "['./data/csv\\\\20170207.xlsx.csv', './data/csv\\\\20170208.xlsx.csv', './data/csv\\\\20170209.xlsx.csv', './data/csv\\\\20170210.xlsx.csv', './data/csv\\\\20170211.xlsx.csv', './data/csv\\\\20170212.xlsx.csv', './data/csv\\\\20170213.xlsx.csv', './data/csv\\\\20170511.xlsx.csv', './data/csv\\\\20170512.xlsx.csv', './data/csv\\\\20170513.xlsx.csv', './data/csv\\\\20170514.xlsx.csv', './data/csv\\\\20170515.xlsx.csv', './data/csv\\\\20170516.xlsx.csv', './data/csv\\\\20170517.xlsx.csv', './data/csv\\\\20170810.xlsx.csv', './data/csv\\\\20170811.xlsx.csv', './data/csv\\\\20170812.xlsx.csv', './data/csv\\\\20170813.xlsx.csv', './data/csv\\\\20170814.xlsx.csv', './data/csv\\\\20170815.xlsx.csv', './data/csv\\\\20170816.xlsx.csv', './data/csv\\\\20171109.xlsx.csv', './data/csv\\\\20171110.xlsx.csv', './data/csv\\\\20171111.xlsx.csv', './data/csv\\\\20171112.xlsx.csv', './data/csv\\\\20171113.xlsx.csv', './data/csv\\\\20171114.xlsx.csv', './data/csv\\\\20171115.xlsx.csv']\n",
      "[info] start to process ./data/csv\\20170207.xlsx.csv\n",
      "could not convert string to float: 'ID'\n",
      "[info] start to process ./data/csv\\20170208.xlsx.csv\n",
      "could not convert string to float: 'ID'\n",
      "[info] start to process ./data/csv\\20170209.xlsx.csv\n",
      "could not convert string to float: 'ID'\n",
      "[info] start to process ./data/csv\\20170210.xlsx.csv\n",
      "could not convert string to float: 'ID'\n",
      "[info] start to process ./data/csv\\20170211.xlsx.csv\n",
      "could not convert string to float: 'ID'\n",
      "[info] start to process ./data/csv\\20170212.xlsx.csv\n",
      "could not convert string to float: 'ID'\n",
      "[info] start to process ./data/csv\\20170213.xlsx.csv\n",
      "could not convert string to float: 'ID'\n",
      "[info] start to process ./data/csv\\20170511.xlsx.csv\n",
      "could not convert string to float: 'ID'\n",
      "[info] start to process ./data/csv\\20170512.xlsx.csv\n",
      "could not convert string to float: 'ID'\n",
      "[info] start to process ./data/csv\\20170513.xlsx.csv\n",
      "could not convert string to float: 'ID'\n",
      "[info] start to process ./data/csv\\20170514.xlsx.csv\n",
      "could not convert string to float: 'ID'\n",
      "[info] start to process ./data/csv\\20170515.xlsx.csv\n",
      "could not convert string to float: 'ID'\n",
      "[info] start to process ./data/csv\\20170516.xlsx.csv\n",
      "could not convert string to float: 'ID'\n",
      "[info] start to process ./data/csv\\20170517.xlsx.csv\n",
      "could not convert string to float: 'ID'\n",
      "[info] start to process ./data/csv\\20170810.xlsx.csv\n",
      "could not convert string to float: 'ID'\n",
      "[info] start to process ./data/csv\\20170811.xlsx.csv\n",
      "could not convert string to float: 'ID'\n",
      "[info] start to process ./data/csv\\20170812.xlsx.csv\n",
      "could not convert string to float: 'ID'\n",
      "[info] start to process ./data/csv\\20170813.xlsx.csv\n",
      "could not convert string to float: 'ID'\n",
      "[info] start to process ./data/csv\\20170814.xlsx.csv\n",
      "could not convert string to float: 'ID'\n",
      "[info] start to process ./data/csv\\20170815.xlsx.csv\n",
      "could not convert string to float: 'ID'\n",
      "[info] start to process ./data/csv\\20170816.xlsx.csv\n",
      "could not convert string to float: 'ID'\n",
      "[info] start to process ./data/csv\\20171109.xlsx.csv\n",
      "could not convert string to float: 'ID'\n",
      "[info] start to process ./data/csv\\20171110.xlsx.csv\n",
      "could not convert string to float: 'ID'\n",
      "[info] start to process ./data/csv\\20171111.xlsx.csv\n",
      "could not convert string to float: 'ID'\n",
      "[info] start to process ./data/csv\\20171112.xlsx.csv\n",
      "could not convert string to float: 'ID'\n",
      "[info] start to process ./data/csv\\20171113.xlsx.csv\n",
      "could not convert string to float: 'ID'\n",
      "[info] start to process ./data/csv\\20171114.xlsx.csv\n",
      "could not convert string to float: 'ID'\n",
      "[info] start to process ./data/csv\\20171115.xlsx.csv\n",
      "could not convert string to float: 'ID'\n"
     ]
    }
   ],
   "source": [
    "import dataReader\n",
    "data = dataReader.getDataSheet()\n",
    "print(data)"
   ]
  },
  {
   "cell_type": "code",
   "execution_count": 2,
   "metadata": {},
   "outputs": [
    {
     "data": {
      "text/plain": [
       "0"
      ]
     },
     "execution_count": 2,
     "metadata": {},
     "output_type": "execute_result"
    }
   ],
   "source": [
    "len(data)"
   ]
  },
  {
   "cell_type": "code",
   "execution_count": 3,
   "metadata": {},
   "outputs": [
    {
     "name": "stdout",
     "output_type": "stream",
     "text": [
      "{}\n"
     ]
    }
   ],
   "source": [
    "print(data)"
   ]
  },
  {
   "cell_type": "code",
   "execution_count": null,
   "metadata": {},
   "outputs": [],
   "source": []
  }
 ],
 "metadata": {
  "kernelspec": {
   "display_name": "mcm",
   "language": "python",
   "name": "mcm"
  },
  "language_info": {
   "codemirror_mode": {
    "name": "ipython",
    "version": 3
   },
   "file_extension": ".py",
   "mimetype": "text/x-python",
   "name": "python",
   "nbconvert_exporter": "python",
   "pygments_lexer": "ipython3",
   "version": "3.6.8"
  }
 },
 "nbformat": 4,
 "nbformat_minor": 2
}
