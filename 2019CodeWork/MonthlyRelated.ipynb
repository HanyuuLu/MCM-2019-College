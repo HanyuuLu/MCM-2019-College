{
 "cells": [
  {
   "cell_type": "code",
   "execution_count": 3,
   "metadata": {},
   "outputs": [
    {
     "name": "stdout",
     "output_type": "stream",
     "text": [
      "['./data/csv\\\\20170207.xlsx.csv', './data/csv\\\\20170208.xlsx.csv', './data/csv\\\\20170209.xlsx.csv', './data/csv\\\\20170210.xlsx.csv', './data/csv\\\\20170211.xlsx.csv', './data/csv\\\\20170212.xlsx.csv', './data/csv\\\\20170213.xlsx.csv', './data/csv\\\\20170511.xlsx.csv', './data/csv\\\\20170512.xlsx.csv', './data/csv\\\\20170513.xlsx.csv', './data/csv\\\\20170514.xlsx.csv', './data/csv\\\\20170515.xlsx.csv', './data/csv\\\\20170516.xlsx.csv', './data/csv\\\\20170517.xlsx.csv', './data/csv\\\\20170810.xlsx.csv', './data/csv\\\\20170811.xlsx.csv', './data/csv\\\\20170812.xlsx.csv', './data/csv\\\\20170813.xlsx.csv', './data/csv\\\\20170814.xlsx.csv', './data/csv\\\\20170815.xlsx.csv', './data/csv\\\\20170816.xlsx.csv', './data/csv\\\\20171109.xlsx.csv', './data/csv\\\\20171110.xlsx.csv', './data/csv\\\\20171111.xlsx.csv', './data/csv\\\\20171112.xlsx.csv', './data/csv\\\\20171113.xlsx.csv', './data/csv\\\\20171114.xlsx.csv', './data/csv\\\\20171115.xlsx.csv']\n",
      "[info] start to process ./data/csv\\20170207.xlsx.csv\n",
      "[info] start to process ./data/csv\\20170208.xlsx.csv\n",
      "[info] start to process ./data/csv\\20170209.xlsx.csv\n",
      "[info] start to process ./data/csv\\20170210.xlsx.csv\n",
      "[info] start to process ./data/csv\\20170211.xlsx.csv\n",
      "[info] start to process ./data/csv\\20170212.xlsx.csv\n",
      "[info] start to process ./data/csv\\20170213.xlsx.csv\n",
      "[info] start to process ./data/csv\\20170511.xlsx.csv\n",
      "[info] start to process ./data/csv\\20170512.xlsx.csv\n",
      "[info] start to process ./data/csv\\20170513.xlsx.csv\n",
      "[info] start to process ./data/csv\\20170514.xlsx.csv\n",
      "[info] start to process ./data/csv\\20170515.xlsx.csv\n",
      "[info] start to process ./data/csv\\20170516.xlsx.csv\n",
      "[info] start to process ./data/csv\\20170517.xlsx.csv\n",
      "[info] start to process ./data/csv\\20170810.xlsx.csv\n",
      "[info] start to process ./data/csv\\20170811.xlsx.csv\n",
      "[info] start to process ./data/csv\\20170812.xlsx.csv\n",
      "[info] start to process ./data/csv\\20170813.xlsx.csv\n",
      "[info] start to process ./data/csv\\20170814.xlsx.csv\n",
      "[info] start to process ./data/csv\\20170815.xlsx.csv\n",
      "[info] start to process ./data/csv\\20170816.xlsx.csv\n",
      "[info] start to process ./data/csv\\20171109.xlsx.csv\n",
      "[info] start to process ./data/csv\\20171110.xlsx.csv\n",
      "[info] start to process ./data/csv\\20171111.xlsx.csv\n",
      "[info] start to process ./data/csv\\20171112.xlsx.csv\n",
      "[info] start to process ./data/csv\\20171113.xlsx.csv\n",
      "[info] start to process ./data/csv\\20171114.xlsx.csv\n",
      "[info] start to process ./data/csv\\20171115.xlsx.csv\n",
      "[info] data load finished!\n",
      "{'sum': 1048576, 'mobilePay': 476085}\n",
      "{'sum': 1048576, 'mobilePay': 476981}\n",
      "{'sum': 1048576, 'mobilePay': 476731}\n",
      "{'sum': 1048576, 'mobilePay': 476480}\n",
      "{'sum': 1048576, 'mobilePay': 477287}\n",
      "{'sum': 1048576, 'mobilePay': 475189}\n",
      "{'sum': 1048576, 'mobilePay': 476377}\n",
      "{'sum': 1048576, 'mobilePay': 431119}\n",
      "{'sum': 1048576, 'mobilePay': 429119}\n",
      "{'sum': 1048576, 'mobilePay': 430144}\n",
      "{'sum': 1048576, 'mobilePay': 431658}\n",
      "{'sum': 1048576, 'mobilePay': 430768}\n",
      "{'sum': 1048576, 'mobilePay': 429521}\n",
      "{'sum': 1048576, 'mobilePay': 428511}\n",
      "{'sum': 1048576, 'mobilePay': 399240}\n",
      "{'sum': 1048576, 'mobilePay': 397336}\n",
      "{'sum': 1048576, 'mobilePay': 396792}\n",
      "{'sum': 1048576, 'mobilePay': 398095}\n",
      "{'sum': 1048576, 'mobilePay': 390478}\n",
      "{'sum': 1048576, 'mobilePay': 390466}\n",
      "{'sum': 1048576, 'mobilePay': 391065}\n",
      "{'sum': 1048576, 'mobilePay': 384139}\n",
      "{'sum': 1048576, 'mobilePay': 385440}\n",
      "{'sum': 1048576, 'mobilePay': 384942}\n",
      "{'sum': 1048576, 'mobilePay': 383766}\n",
      "{'sum': 1048576, 'mobilePay': 382292}\n",
      "{'sum': 1048576, 'mobilePay': 380782}\n",
      "{'sum': 1048576, 'mobilePay': 383172}\n"
     ]
    }
   ],
   "source": [
    "import dataReaderByMonth\n",
    "res = dataReaderByMonth.getDataSheet()\n",
    "for i in res:\n",
    "    print(res[i])"
   ]
  },
  {
   "cell_type": "code",
   "execution_count": null,
   "metadata": {},
   "outputs": [],
   "source": []
  }
 ],
 "metadata": {
  "kernelspec": {
   "display_name": "mcm",
   "language": "python",
   "name": "mcm"
  },
  "language_info": {
   "codemirror_mode": {
    "name": "ipython",
    "version": 3
   },
   "file_extension": ".py",
   "mimetype": "text/x-python",
   "name": "python",
   "nbconvert_exporter": "python",
   "pygments_lexer": "ipython3",
   "version": "3.6.8"
  }
 },
 "nbformat": 4,
 "nbformat_minor": 2
}
