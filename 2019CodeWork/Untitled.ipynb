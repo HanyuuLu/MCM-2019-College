{
 "cells": [
  {
   "cell_type": "code",
   "execution_count": 1,
   "metadata": {},
   "outputs": [
    {
     "name": "stdout",
     "output_type": "stream",
     "text": [
      "['./expdata/20170207.xlsx.csv']\n",
      "[info] start to process ./expdata/20170207.xlsx.csv\n",
      "[info] data load finished!\n"
     ]
    }
   ],
   "source": [
    "import dataReader\n",
    "data = dataReader.getDataSheet()"
   ]
  },
  {
   "cell_type": "code",
   "execution_count": null,
   "metadata": {},
   "outputs": [],
   "source": [
    "import importlib\n",
    "importlib.reload(dataReader)"
   ]
  },
  {
   "cell_type": "code",
   "execution_count": 13,
   "metadata": {},
   "outputs": [
    {
     "name": "stdout",
     "output_type": "stream",
     "text": [
      "[[None, 0]]\n"
     ]
    }
   ],
   "source": [
    "print(data[5100000000300000].record)"
   ]
  },
  {
   "cell_type": "code",
   "execution_count": 23,
   "metadata": {},
   "outputs": [
    {
     "name": "stdout",
     "output_type": "stream",
     "text": [
      "[2448, 638, 30, 2, 188, 898, 13733, 49587, 74256, 65315, 62844, 57405, 53875, 62657, 66388, 62372, 67779, 79149, 65417, 46006, 46459, 43085, 23213, 5381, 99450]\n"
     ]
    }
   ],
   "source": [
    "import NumberOfHoursTravelDistributionMap\n",
    "res = NumberOfHoursTravelDistributionMap.numberOfHoursDistributionMap(data)\n",
    "print(res)"
   ]
  },
  {
   "cell_type": "code",
   "execution_count": 22,
   "metadata": {},
   "outputs": [
    {
     "data": {
      "text/plain": [
       "<module 'NumberOfHoursTravelDistributionMap' from 'E:\\\\Repos\\\\MCM-2019-College\\\\2019CodeWork\\\\NumberOfHoursTravelDistributionMap.py'>"
      ]
     },
     "execution_count": 22,
     "metadata": {},
     "output_type": "execute_result"
    }
   ],
   "source": [
    "import importlib\n",
    "importlib.reload(NumberOfHoursTravelDistributionMap)"
   ]
  },
  {
   "cell_type": "code",
   "execution_count": 14,
   "metadata": {},
   "outputs": [
    {
     "name": "stdout",
     "output_type": "stream",
     "text": [
      "None\n"
     ]
    }
   ],
   "source": [
    "for i in data[5100000000300000].record:\n",
    "    print(i[0])"
   ]
  },
  {
   "cell_type": "code",
   "execution_count": null,
   "metadata": {},
   "outputs": [],
   "source": []
  }
 ],
 "metadata": {
  "kernelspec": {
   "display_name": "mcm",
   "language": "python",
   "name": "mcm"
  },
  "language_info": {
   "codemirror_mode": {
    "name": "ipython",
    "version": 3
   },
   "file_extension": ".py",
   "mimetype": "text/x-python",
   "name": "python",
   "nbconvert_exporter": "python",
   "pygments_lexer": "ipython3",
   "version": "3.6.8"
  }
 },
 "nbformat": 4,
 "nbformat_minor": 2
}
