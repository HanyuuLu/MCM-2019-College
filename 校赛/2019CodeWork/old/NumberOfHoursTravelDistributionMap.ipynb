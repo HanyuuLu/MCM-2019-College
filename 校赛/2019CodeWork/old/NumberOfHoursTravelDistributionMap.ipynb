{
 "cells": [
  {
   "cell_type": "code",
   "execution_count": null,
   "metadata": {},
   "outputs": [],
   "source": [
    "import importlib\n",
    "importlib.reload(NumberOfHoursTravelDistributionMap)"
   ]
  },
  {
   "cell_type": "code",
   "execution_count": null,
   "metadata": {},
   "outputs": [],
   "source": [
    "import importlib\n",
    "importlib.reload(dataReader)"
   ]
  },
  {
   "cell_type": "code",
   "execution_count": null,
   "metadata": {},
   "outputs": [],
   "source": [
    "import importlib\n",
    "importlib.reload(NumberOfDaysTravelDistributionMap)"
   ]
  },
  {
   "cell_type": "markdown",
   "metadata": {},
   "source": [
    "# 第一题绘图"
   ]
  },
  {
   "cell_type": "markdown",
   "metadata": {},
   "source": [
    "## 模块重导入"
   ]
  },
  {
   "cell_type": "markdown",
   "metadata": {},
   "source": [
    "## 数据导入"
   ]
  },
  {
   "cell_type": "code",
   "execution_count": 3,
   "metadata": {},
   "outputs": [
    {
     "name": "stdout",
     "output_type": "stream",
     "text": [
      "['./data/csv\\\\20170207.xlsx.csv', './data/csv\\\\20170208.xlsx.csv', './data/csv\\\\20170209.xlsx.csv', './data/csv\\\\20170210.xlsx.csv', './data/csv\\\\20170211.xlsx.csv', './data/csv\\\\20170212.xlsx.csv', './data/csv\\\\20170213.xlsx.csv', './data/csv\\\\20170511.xlsx.csv', './data/csv\\\\20170512.xlsx.csv', './data/csv\\\\20170513.xlsx.csv', './data/csv\\\\20170514.xlsx.csv', './data/csv\\\\20170515.xlsx.csv', './data/csv\\\\20170516.xlsx.csv', './data/csv\\\\20170517.xlsx.csv', './data/csv\\\\20170810.xlsx.csv', './data/csv\\\\20170811.xlsx.csv', './data/csv\\\\20170812.xlsx.csv', './data/csv\\\\20170813.xlsx.csv', './data/csv\\\\20170814.xlsx.csv', './data/csv\\\\20170815.xlsx.csv', './data/csv\\\\20170816.xlsx.csv', './data/csv\\\\20171109.xlsx.csv', './data/csv\\\\20171110.xlsx.csv', './data/csv\\\\20171111.xlsx.csv', './data/csv\\\\20171112.xlsx.csv', './data/csv\\\\20171113.xlsx.csv', './data/csv\\\\20171114.xlsx.csv', './data/csv\\\\20171115.xlsx.csv']\n",
      "[info] start to process ./data/csv\\20170207.xlsx.csv\n",
      "[info] start to process ./data/csv\\20170208.xlsx.csv\n",
      "[info] start to process ./data/csv\\20170209.xlsx.csv\n",
      "[info] start to process ./data/csv\\20170210.xlsx.csv\n",
      "[info] start to process ./data/csv\\20170211.xlsx.csv\n",
      "[info] start to process ./data/csv\\20170212.xlsx.csv\n",
      "[info] start to process ./data/csv\\20170213.xlsx.csv\n",
      "[info] start to process ./data/csv\\20170511.xlsx.csv\n",
      "[info] start to process ./data/csv\\20170512.xlsx.csv\n",
      "[info] start to process ./data/csv\\20170513.xlsx.csv\n",
      "[info] start to process ./data/csv\\20170514.xlsx.csv\n",
      "[info] start to process ./data/csv\\20170515.xlsx.csv\n",
      "[info] start to process ./data/csv\\20170516.xlsx.csv\n",
      "[info] start to process ./data/csv\\20170517.xlsx.csv\n",
      "[info] start to process ./data/csv\\20170810.xlsx.csv\n",
      "[info] start to process ./data/csv\\20170811.xlsx.csv\n",
      "[info] start to process ./data/csv\\20170812.xlsx.csv\n",
      "[info] start to process ./data/csv\\20170813.xlsx.csv\n",
      "[info] start to process ./data/csv\\20170814.xlsx.csv\n",
      "[info] start to process ./data/csv\\20170815.xlsx.csv\n",
      "[info] start to process ./data/csv\\20170816.xlsx.csv\n",
      "[info] start to process ./data/csv\\20171109.xlsx.csv\n",
      "[info] start to process ./data/csv\\20171110.xlsx.csv\n",
      "[info] start to process ./data/csv\\20171111.xlsx.csv\n",
      "[info] start to process ./data/csv\\20171112.xlsx.csv\n",
      "[info] start to process ./data/csv\\20171113.xlsx.csv\n",
      "[info] start to process ./data/csv\\20171114.xlsx.csv\n",
      "[info] start to process ./data/csv\\20171115.xlsx.csv\n",
      "[info] data load finished!\n"
     ]
    }
   ],
   "source": [
    "import dataReader\n",
    "data = dataReader.getDataSheet()"
   ]
  },
  {
   "cell_type": "markdown",
   "metadata": {},
   "source": [
    "# 小时分布"
   ]
  },
  {
   "cell_type": "markdown",
   "metadata": {},
   "source": [
    "## 统计"
   ]
  },
  {
   "cell_type": "code",
   "execution_count": null,
   "metadata": {},
   "outputs": [],
   "source": [
    "import NumberOfHoursTravelDistributionMap\n",
    "res = NumberOfHoursTravelDistributionMap.getData(data)"
   ]
  },
  {
   "cell_type": "markdown",
   "metadata": {},
   "source": [
    "## 绘图"
   ]
  },
  {
   "cell_type": "code",
   "execution_count": null,
   "metadata": {
    "scrolled": false
   },
   "outputs": [],
   "source": [
    "import matplotlib.pyplot as plt\n",
    "import numpy as np\n",
    "import matplotlib\n",
    "import pylab\n",
    "pylab.rcParams['figure.figsize'] = (15.0, 8.0) # 显示大小\n",
    "# 中文和负号显示\n",
    "matplotlib.rcParams['font.sans-serif'] = ['SimHei']\n",
    "matplotlib.rcParams['axes.unicode_minus'] = False\n",
    "# 绘制直方图\n",
    "xLabel = []\n",
    "for i in range(25):\n",
    "    xLabel.append(str(i))\n",
    "xLabel[24]=\"未知\"\n",
    "# plt.hist(data, bins=40, normed=0, facecolor='blue', edgecolor='black', alpha=0.7)\n",
    "plt.xlabel(\"小时\")\n",
    "plt.ylabel(\"日均出行数/人次\")\n",
    "plt.title(\"日均出行人次数小时分布图\")\n",
    "\n",
    "\n",
    "rects1 = plt.bar(x=xLabel,height=res, width=0.4,\n",
    "             alpha=0.8, color='blue', label=\"\")\n",
    "for rect in rects1:\n",
    "    height = rect.get_height()\n",
    "    plt.text(rect.get_x() + rect.get_width() / 2, height +\n",
    "             1, str(height), ha=\"center\", va=\"bottom\")\n",
    "\n",
    "plt.show()"
   ]
  },
  {
   "cell_type": "markdown",
   "metadata": {},
   "source": [
    "# 日期分布"
   ]
  },
  {
   "cell_type": "markdown",
   "metadata": {},
   "source": [
    "# 统计"
   ]
  },
  {
   "cell_type": "markdown",
   "metadata": {},
   "source": [
    "## 统计"
   ]
  },
  {
   "cell_type": "code",
   "execution_count": null,
   "metadata": {},
   "outputs": [],
   "source": [
    "import NumberOfDaysTravelDistributionMap\n",
    "resDaily = NumberOfDaysTravelDistributionMap.getData(data)"
   ]
  },
  {
   "cell_type": "markdown",
   "metadata": {},
   "source": [
    "# 绘图"
   ]
  },
  {
   "cell_type": "code",
   "execution_count": null,
   "metadata": {
    "scrolled": false
   },
   "outputs": [],
   "source": [
    "import matplotlib.pyplot as plt\n",
    "import matplotlib\n",
    "import pylab\n",
    "pylab.rcParams['figure.figsize'] = (15.0, 8.0) # 显示大小\n",
    "matplotlib.rcParams['font.sans-serif'] = ['SimHei']\n",
    "matplotlib.rcParams['axes.unicode_minus'] = False\n",
    "\n",
    "label_list = [x for x in resDaily[1]]\n",
    "print(label_list)\n",
    "num_list1 = [resDaily[0][x] for x in resDaily[0]]\n",
    "num_list2 = [resDaily[1][x] for x in resDaily[1]]\n",
    "for i in range(len(num_list2)):\n",
    "    num_list1[i] -= num_list2[i]\n",
    "x = range(len(num_list1))\n",
    "rects1 = plt.bar(x=label_list, height=num_list2, width=0.45, alpha=0.8, color='green', label=\"使用移动支付的出行人次\")\n",
    "rects2 = plt.bar(x=label_list, height=num_list1, width=0.45, color='blue', label=\"出行人次\", bottom=num_list2)\n",
    "#rrects1 = plt.bar(x=xLabel,height=res, width=0.4,alpha=0.8, color='blue', label=\"一部门\")ects1 = plt.bar(x=xLabel,height=res, width=0.4, alpha=0.8, color='blue', label=\"一部门\")\n",
    "#plt.ylim(0, 80)\n",
    "plt.ylabel(\"人次\")\n",
    "plt.xticks(x, label_list)\n",
    "plt.xlabel(\"日期\")\n",
    "plt.title(\"日分布\")\n",
    "plt.legend()\n",
    "plt.show()"
   ]
  },
  {
   "cell_type": "markdown",
   "metadata": {},
   "source": [
    "# 星期分布"
   ]
  },
  {
   "cell_type": "code",
   "execution_count": null,
   "metadata": {},
   "outputs": [],
   "source": [
    "import importlib\n",
    "importlib.reload(NumberOfWeeksTravelDistributionMap)"
   ]
  },
  {
   "cell_type": "markdown",
   "metadata": {},
   "source": [
    "# 统计"
   ]
  },
  {
   "cell_type": "code",
   "execution_count": null,
   "metadata": {},
   "outputs": [],
   "source": [
    "import NumberOfWeeksTravelDistributionMap\n",
    "resWeekly = NumberOfWeeksTravelDistributionMap.getData(data)"
   ]
  },
  {
   "cell_type": "markdown",
   "metadata": {},
   "source": [
    "# 绘图"
   ]
  },
  {
   "cell_type": "code",
   "execution_count": null,
   "metadata": {},
   "outputs": [],
   "source": [
    "import matplotlib.pyplot as plt\n",
    "import matplotlib\n",
    "import pylab\n",
    "pylab.rcParams['figure.figsize'] = (15.0, 8.0) # 显示大小\n",
    "matplotlib.rcParams['font.sans-serif'] = ['SimHei']\n",
    "matplotlib.rcParams['axes.unicode_minus'] = False\n",
    "\n",
    "label_list = [x for x in resWeekly[1]]\n",
    "print(label_list)\n",
    "num_list1 = [resWeekly[0][x] for x in resWeekly[0]]\n",
    "num_list2 = [resWeekly[1][x] for x in resWeekly[1]]\n",
    "for i in range(len(num_list2)):\n",
    "    num_list1[i] -= num_list2[i]\n",
    "x = range(len(num_list1))\n",
    "rects1 = plt.bar(x=label_list, height=num_list2, width=0.45, alpha=0.8, color='green', label=\"使用移动支付的出行人次\")\n",
    "rects2 = plt.bar(x=label_list, height=num_list1, width=0.45, color='blue', label=\"出行人次\", bottom=num_list2)\n",
    "#rrects1 = plt.bar(x=xLabel,height=res, width=0.4,alpha=0.8, color='blue', label=\"一部门\")ects1 = plt.bar(x=xLabel,height=res, width=0.4, alpha=0.8, color='blue', label=\"一部门\")\n",
    "#plt.ylim(0, 80)\n",
    "plt.ylabel(\"人次\")\n",
    "plt.xticks(x, label_list)\n",
    "plt.xlabel(\"日期\")\n",
    "plt.title(\"周分布\")\n",
    "plt.legend()\n",
    "plt.show()"
   ]
  },
  {
   "cell_type": "code",
   "execution_count": null,
   "metadata": {},
   "outputs": [],
   "source": [
    "print(data)"
   ]
  },
  {
   "cell_type": "code",
   "execution_count": null,
   "metadata": {},
   "outputs": [],
   "source": []
  }
 ],
 "metadata": {
  "kernelspec": {
   "display_name": "mcm",
   "language": "python",
   "name": "mcm"
  },
  "language_info": {
   "codemirror_mode": {
    "name": "ipython",
    "version": 3
   },
   "file_extension": ".py",
   "mimetype": "text/x-python",
   "name": "python",
   "nbconvert_exporter": "python",
   "pygments_lexer": "ipython3",
   "version": "3.6.8"
  }
 },
 "nbformat": 4,
 "nbformat_minor": 2
}
